{
 "cells": [
  {
   "cell_type": "code",
   "execution_count": 36,
   "metadata": {},
   "outputs": [
    {
     "name": "stdout",
     "output_type": "stream",
     "text": [
      "mean : 0.475\n"
     ]
    }
   ],
   "source": [
    "def normalize(arr):\n",
    "    minimum=min(arr)\n",
    "    maximum=max(arr)\n",
    "    nor_vals=[]\n",
    "    for val in arr:\n",
    "        newval=(val-minimum)/(maximum-minimum)\n",
    "        nor_vals.append(newval)\n",
    "    n=len(nor_vals)\n",
    "    s=sum(nor_vals)\n",
    "    mean=s/n\n",
    "    print(\"mean :\",mean) \n",
    "    \n",
    "normalize([2,3,1,4,5,6,3,3])"
   ]
  },
  {
   "cell_type": "code",
   "execution_count": 37,
   "metadata": {},
   "outputs": [
    {
     "name": "stdout",
     "output_type": "stream",
     "text": [
      "mean : 0.47500000000000003\n"
     ]
    }
   ],
   "source": [
    "import statistics as st\n",
    "def normalize(arr):\n",
    "    minimum=min(arr)\n",
    "    maximum=max(arr)\n",
    "    nor_vals=[]\n",
    "    for val in arr:\n",
    "        newval=(val-minimum)/(maximum-minimum)\n",
    "        nor_vals.append(newval)\n",
    "    mean=st.mean(nor_vals)\n",
    "    print(\"mean :\",mean) \n",
    "    \n",
    "normalize([2,3,1,4,5,6,3,3])"
   ]
  },
  {
   "cell_type": "code",
   "execution_count": 28,
   "metadata": {},
   "outputs": [
    {
     "name": "stdout",
     "output_type": "stream",
     "text": [
      "[[0.8 0.2 0.4 0.4]\n",
      " [0.1 0.3 0.9 0.3]\n",
      " [0.5 0.7 0.5 0.1]]\n"
     ]
    }
   ],
   "source": [
    "from sklearn.preprocessing import Normalizer\n",
    "def normalize():\n",
    "    x=[[4,1,2,2],\n",
    "       [1,3,9,3],\n",
    "       [5,7,5,1]]\n",
    "    transformer=Normalizer().fit(x)\n",
    "    print(transformer.transform(x))\n",
    "    \n",
    "normalize()   "
   ]
  },
  {
   "cell_type": "code",
   "execution_count": 35,
   "metadata": {},
   "outputs": [
    {
     "name": "stdout",
     "output_type": "stream",
     "text": [
      "StandardScaler()\n",
      "[0.5 0.5]\n",
      "[[-1. -1.]\n",
      " [-1. -1.]\n",
      " [ 1.  1.]\n",
      " [ 1.  1.]]\n"
     ]
    }
   ],
   "source": [
    "from sklearn.preprocessing import StandardScaler\n",
    "data = [[0, 0], [0, 0], [1, 1], [1, 1]]\n",
    "scaler = StandardScaler()\n",
    "print(scaler.fit(data))\n",
    "StandardScaler()\n",
    "print(scaler.mean_)\n",
    "print(scaler.transform(data))"
   ]
  },
  {
   "cell_type": "code",
   "execution_count": 32,
   "metadata": {},
   "outputs": [
    {
     "name": "stdout",
     "output_type": "stream",
     "text": [
      "[[ 0.39223227 -1.06904497 -1.16247639  0.        ]\n",
      " [-1.37281295 -0.26726124  1.27872403  1.22474487]\n",
      " [ 0.98058068  1.33630621 -0.11624764 -1.22474487]]\n"
     ]
    }
   ],
   "source": [
    "from sklearn.preprocessing import StandardScaler\n",
    "def normalize():\n",
    "    x=[[4,1,2,2],\n",
    "       [1,3,9,3],\n",
    "       [5,7,5,1]]\n",
    "    scaler = StandardScaler()\n",
    "    scaler.fit(x)\n",
    "    print(scaler.transform(x))\n",
    "    \n",
    "normalize()   "
   ]
  },
  {
   "cell_type": "code",
   "execution_count": 49,
   "metadata": {},
   "outputs": [
    {
     "name": "stdout",
     "output_type": "stream",
     "text": [
      "mean : 3.375\n",
      "standard deviation : 1.5979898086569353\n",
      "standardized values mean : 0.0\n",
      "standardized values standard deviation : 0.9999999999999999\n"
     ]
    }
   ],
   "source": [
    "import math\n",
    "def standardize(arr):\n",
    "    n=len(arr)\n",
    "    s=sum(arr)\n",
    "    mean=s/n\n",
    "    sum_n=0\n",
    "    \n",
    "    for i in arr:\n",
    "        sum_n+=pow(i-mean,2)\n",
    "        \n",
    "    variance=sum_n/(n-1)\n",
    "    sd=math.sqrt(variance) \n",
    "    \n",
    "    #standardized values calculation\n",
    "    std_vals=[]\n",
    "    for val in arr:\n",
    "        newval=(val-mean)/(sd) \n",
    "        std_vals.append(newval)\n",
    "        \n",
    "    sd_sum=sum(std_vals)\n",
    "    std_mean=sd_sum/n\n",
    "    \n",
    "    #standard deviation of standardized values\n",
    "    sq_vals=0\n",
    "    for i in std_vals:\n",
    "        sq_vals+=pow(i-std_mean,2)\n",
    "        \n",
    "    var=sq_vals/(n-1)\n",
    "    stdev=math.sqrt(var) \n",
    "    \n",
    "    print(\"mean :\",mean)\n",
    "    print(\"standard deviation :\",sd) \n",
    "    \n",
    "    print(\"standardized values mean :\",std_mean) \n",
    "    print(\"standardized values standard deviation :\",stdev)\n",
    "    \n",
    "standardize([2,3,1,4,5,6,3,3])"
   ]
  },
  {
   "cell_type": "code",
   "execution_count": 46,
   "metadata": {},
   "outputs": [
    {
     "name": "stdout",
     "output_type": "stream",
     "text": [
      "mean : 3.375\n",
      "standard deviation : 1.5979898086569353\n",
      "standardized values mean : 0.0\n",
      "standardized values standard deviation : 0.9999999999999999\n"
     ]
    }
   ],
   "source": [
    "import statistics as st;\n",
    "def standardize(arr):\n",
    "    mean=st.mean(arr)\n",
    "    sd=st.stdev(arr)\n",
    "    print(\"mean :\",mean)\n",
    "    print(\"standard deviation :\",sd)\n",
    "    \n",
    "    std_vals=[]\n",
    "    for val in arr:\n",
    "        newval=(val-mean)/(sd) \n",
    "        std_vals.append(newval)\n",
    "    \n",
    "    print(\"standardized values mean :\",st.mean(std_vals)) \n",
    "    print(\"standardized values standard deviation :\",st.stdev(std_vals)) \n",
    "    \n",
    "standardize([2,3,1,4,5,6,3,3])"
   ]
  },
  {
   "cell_type": "code",
   "execution_count": null,
   "metadata": {},
   "outputs": [],
   "source": []
  }
 ],
 "metadata": {
  "kernelspec": {
   "display_name": "Python 3",
   "language": "python",
   "name": "python3"
  },
  "language_info": {
   "codemirror_mode": {
    "name": "ipython",
    "version": 3
   },
   "file_extension": ".py",
   "mimetype": "text/x-python",
   "name": "python",
   "nbconvert_exporter": "python",
   "pygments_lexer": "ipython3",
   "version": "3.8.10"
  }
 },
 "nbformat": 4,
 "nbformat_minor": 4
}
