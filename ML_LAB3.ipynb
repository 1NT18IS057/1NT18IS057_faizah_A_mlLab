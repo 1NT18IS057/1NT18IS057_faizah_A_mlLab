{
 "cells": [
  {
   "cell_type": "code",
   "execution_count": 97,
   "metadata": {},
   "outputs": [
    {
     "name": "stdout",
     "output_type": "stream",
     "text": [
      "mean : 3.375\n",
      "median : 3.0\n",
      "mode : 3\n",
      "variance : 2.5535714285714284\n",
      "standard deviation : 1.5979898086569353\n"
     ]
    }
   ],
   "source": [
    "import math\n",
    "def stat(arr):\n",
    "    arr.sort()\n",
    "    n=len(arr)\n",
    "    s=sum(arr)\n",
    "    mean=s/n\n",
    "    if n%2!=0:\n",
    "        index=n//2\n",
    "        median=arr[index]\n",
    "    else:\n",
    "        index=n//2;\n",
    "        median=(arr[index-1]+arr[index])/2\n",
    "        \n",
    "    mode=0\n",
    "    freq=[0]*max(arr)\n",
    "    for i  in arr:\n",
    "        freq[i-1]+=1\n",
    "    mode=freq.index(max(freq))+1\n",
    "    \n",
    "    sum_n=0\n",
    "    for i in arr:\n",
    "        sum_n+=pow(i-mean,2)\n",
    "    variance=sum_n/(n-1)\n",
    "    \n",
    "    sum_n=0\n",
    "    for i in arr:\n",
    "        sum_n+=pow(i-mean,2)\n",
    "    variance=sum_n/(n-1)\n",
    "    sd=math.sqrt(variance) \n",
    "    \n",
    "    print(\"mean :\",mean) \n",
    "    print(\"median :\",median)\n",
    "    print(\"mode :\",mode)\n",
    "    print(\"variance :\",variance)\n",
    "    print(\"standard deviation :\",sd) \n",
    "        \n",
    "stat([2,3,1,4,5,6,3,3]) "
   ]
  },
  {
   "cell_type": "code",
   "execution_count": 98,
   "metadata": {},
   "outputs": [
    {
     "name": "stdout",
     "output_type": "stream",
     "text": [
      "mean : 3.375\n",
      "median : 3.0\n",
      "mode : 3\n",
      "variance : 2.5535714285714284\n",
      "standard deviation : 1.5979898086569353\n"
     ]
    }
   ],
   "source": [
    "import statistics as st;\n",
    "def stat(arr):\n",
    "    print(\"mean :\",st.mean(arr))\n",
    "    print(\"median :\",st.median(arr))\n",
    "    print(\"mode :\",st.mode(arr))\n",
    "    print(\"variance :\",st.variance(arr))\n",
    "    print(\"standard deviation :\",st.stdev(arr))\n",
    "    \n",
    "stat([2,3,1,4,5,6,3,3]) "
   ]
  },
  {
   "cell_type": "code",
   "execution_count": 95,
   "metadata": {},
   "outputs": [
    {
     "name": "stdout",
     "output_type": "stream",
     "text": [
      "mean : 3.375\n",
      "median : 3.0\n",
      "mode : 3\n",
      "variance : 2.5535714285714284\n",
      "standard deviation : 1.5979898086569353\n"
     ]
    }
   ],
   "source": [
    "import statistics as st;\n",
    "def stat(arr):\n",
    "    print(\"mean :\",st.mean(arr))\n",
    "    print(\"median :\",st.median(arr))\n",
    "    print(\"mode :\",st.mode(arr))\n",
    "    print(\"variance :\",st.variance(arr))\n",
    "    print(\"standard deviation :\",st.stdev(arr))\n",
    "    \n",
    "stat([2,3,1,4,5,6,3,3]) "
   ]
  },
  {
   "cell_type": "code",
   "execution_count": null,
   "metadata": {},
   "outputs": [],
   "source": []
  },
  {
   "cell_type": "code",
   "execution_count": 67,
   "metadata": {},
   "outputs": [
    {
     "name": "stdout",
     "output_type": "stream",
     "text": [
      "mean : 2.5\n"
     ]
    }
   ],
   "source": [
    "def mean(arr):\n",
    "    arr.sort()\n",
    "    n=len(arr)\n",
    "    s=sum(arr)\n",
    "    index=0\n",
    "    mean=s/n;\n",
    "    print(\"mean :\",mean)\n",
    "        \n",
    "mean([4,2,3,1])   "
   ]
  },
  {
   "cell_type": "code",
   "execution_count": 33,
   "metadata": {},
   "outputs": [
    {
     "name": "stdout",
     "output_type": "stream",
     "text": [
      "median : 2.5\n"
     ]
    }
   ],
   "source": [
    "def median(arr):\n",
    "    arr.sort()\n",
    "    n=len(arr)\n",
    "    if n%2!=0:\n",
    "        index=n//2\n",
    "        median=arr[index]\n",
    "    else:\n",
    "        index=n//2\n",
    "        median=(arr[index-1]+arr[index])/2\n",
    "    print(\"median :\",median)\n",
    "        \n",
    "median([4,2,3,1])   "
   ]
  },
  {
   "cell_type": "code",
   "execution_count": 54,
   "metadata": {},
   "outputs": [
    {
     "name": "stdout",
     "output_type": "stream",
     "text": [
      "mode : 1\n"
     ]
    }
   ],
   "source": [
    "def mode(arr):\n",
    "    arr.sort()\n",
    "    n=len(arr)\n",
    "    mode=0\n",
    "    freq=[0]*max(arr)\n",
    "    for i  in arr:\n",
    "        freq[i-1]+=1\n",
    "    mode=freq.index(max(freq))+1\n",
    "    print(\"mode :\",mode)\n",
    "                       \n",
    "mode([1,2,4,1,2,1,1])\n",
    "                       "
   ]
  },
  {
   "cell_type": "code",
   "execution_count": 81,
   "metadata": {},
   "outputs": [],
   "source": [
    "import math\n",
    "def var(arr):\n",
    "    arr.sort()\n",
    "    n=len(arr)\n",
    "    s=sum(arr)\n",
    "    sum_n=0\n",
    "    mean=s/n\n",
    "    for i in arr:\n",
    "        sum_n+=pow(i-mean,2)\n",
    "    variance=sum_n/(n-1)\n",
    "    print(\"mean :\",mean) \n",
    "    print(\"variance :\",variance)    \n",
    "    "
   ]
  },
  {
   "cell_type": "code",
   "execution_count": 82,
   "metadata": {},
   "outputs": [
    {
     "name": "stdout",
     "output_type": "stream",
     "text": [
      "mean : 3.5\n",
      "variance : 3.5\n"
     ]
    }
   ],
   "source": [
    "var([2,3,1,4,5,6])"
   ]
  },
  {
   "cell_type": "code",
   "execution_count": 94,
   "metadata": {},
   "outputs": [
    {
     "name": "stdout",
     "output_type": "stream",
     "text": [
      "mean : 3.375\n",
      "variance : 2.5535714285714284\n",
      "standard deviation : 1.5979898086569353\n"
     ]
    }
   ],
   "source": [
    "import math\n",
    "def stdev(arr):\n",
    "    arr.sort()\n",
    "    n=len(arr)\n",
    "    s=sum(arr)\n",
    "    sum_n=0\n",
    "    mean=s/n\n",
    "    for i in arr:\n",
    "        sum_n+=pow(i-mean,2)\n",
    "    variance=sum_n/(n-1)\n",
    "    sd=math.sqrt(variance)\n",
    "    print(\"mean :\",mean) \n",
    "    print(\"variance :\",variance) \n",
    "    print(\"standard deviation :\",sd) \n",
    "stdev([2,3,1,4,5,6,3,3])    "
   ]
  },
  {
   "cell_type": "code",
   "execution_count": null,
   "metadata": {},
   "outputs": [],
   "source": []
  }
 ],
 "metadata": {
  "kernelspec": {
   "display_name": "Python 3",
   "language": "python",
   "name": "python3"
  },
  "language_info": {
   "codemirror_mode": {
    "name": "ipython",
    "version": 3
   },
   "file_extension": ".py",
   "mimetype": "text/x-python",
   "name": "python",
   "nbconvert_exporter": "python",
   "pygments_lexer": "ipython3",
   "version": "3.8.10"
  }
 },
 "nbformat": 4,
 "nbformat_minor": 4
}
