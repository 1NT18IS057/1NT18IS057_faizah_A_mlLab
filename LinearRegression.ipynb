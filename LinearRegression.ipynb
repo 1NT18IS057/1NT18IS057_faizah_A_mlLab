{
 "cells": [
  {
   "cell_type": "code",
   "execution_count": 43,
   "metadata": {},
   "outputs": [
    {
     "name": "stdout",
     "output_type": "stream",
     "text": [
      "mean of x = 8.159799999999999\n",
      "mean of y= 5.839135051546393\n",
      "standard deviation of y = 5.510262255231544\n",
      "standard deviation of x= 3.8698835278823314\n",
      "r= 0.8378732325263409\n",
      "slope(m)= 1.193033644189594\n",
      "intercept(c)= -3.8957808783118537\n"
     ]
    },
    {
     "data": {
      "image/png": "[encoded data removed]",
      "text/plain": [
       "<Figure size 432x288 with 1 Axes>"
      ]
     },
     "metadata": {
      "needs_background": "light"
     },
     "output_type": "display_data"
    },
    {
     "name": "stdout",
     "output_type": "stream",
     "text": [
      "cost= [14.19822601  6.4312488   7.39480448  7.39472766  3.72814233  5.78069914\n",
      " -0.67551586  5.66181898  2.75622606  1.68207302  0.33492365  2.50265234\n",
      "  0.21002596  1.09007678 -2.117584    0.99087569  1.60644452 -1.66383102\n",
      " -0.12314824  0.84937859 -0.34942365  1.47998891  1.60890687  1.53603074\n",
      "  0.33916795  3.93175849  2.09254529 -2.12958876  2.86836958  1.55385488\n",
      " -3.59050903  2.03100498  4.99636713 -1.28383475  0.64226232 -1.00673223\n",
      " -1.6465002   0.60007636 -1.30099898  1.81336092 -1.99826273 -0.40377318\n",
      " -4.68685703 -0.55183747  1.29245052 -3.52022606  2.9805617  -1.18148451\n",
      " -2.05841276 -1.69763436  1.65046859 -0.59688379 -0.67268159 -0.17687322\n",
      " -2.23616258 -5.11170076 -1.11395081  1.77162904 -3.24920096 -1.96858198\n",
      " -1.46381825 -3.02608828 -3.56178204 -1.83596469 -1.66894398  0.16942543\n",
      " -0.2563525  -0.5407115  -1.64788834  0.62028352 -1.51690814 -0.82862438\n",
      " -1.9914178  -1.38386093 -4.78217995 -3.61930412 -1.21352255  3.58846693\n",
      " -1.60884678 -0.14027707 -2.45981748 -2.08994488 -3.00817305 -0.21510688\n",
      "  1.46569296 -2.02402528 -0.25840658 -2.33785705 -2.53824205  0.68114646\n",
      " -1.06859725 -0.91903985  4.09473826 -0.44683982 -5.85398435 -3.02861175\n",
      " -1.97357374]\n",
      "SSE= 868.5324469391845\n",
      "SSR= 2046.314604718041\n",
      "SST= 2914.8470516572247\n",
      "R2= 0.7020315537841401\n"
     ]
    }
   ],
   "source": [
    "import numpy as np\n",
    "import pandas as pd\n",
    "import matplotlib.pyplot as plt\n",
    "import statistics as st\n",
    "\n",
    "col_names=['x','y']\n",
    "food = pd.read_csv(\"Food-Truck-LineReg.csv\",names=col_names)\n",
    "X=food['x'].values\n",
    "Y=food['y'].values\n",
    "\n",
    "# number of observations/points\n",
    "n=np.size(X)\n",
    "\n",
    "# mean of x and y vector\n",
    "m_x = np.mean(X)\n",
    "m_y = np.mean(Y)\n",
    "print(\"mean of x =\",m_x)\n",
    "print(\"mean of y=\",m_y)\n",
    "\n",
    "# calculating cross-deviation and deviation about x\n",
    "Sy=st.stdev(Y)\n",
    "Sx=st.stdev(X)\n",
    "print(\"standard deviation of y =\",Sy)\n",
    "print(\"standard deviation of x=\",Sx)\n",
    "\n",
    "#correlation coefficient\n",
    "import scipy.stats\n",
    "r=scipy.stats.pearsonr(X,Y)[0]\n",
    "print(\"r=\",r)\n",
    "\n",
    "#slope\n",
    "m=r*(Sy/Sx)\n",
    "print(\"slope(m)=\",m)\n",
    "\n",
    "# plotting the actual points as scatter plot\n",
    "plt.scatter(X, Y, color = \"m\",marker = \"o\", s = 30)\n",
    "\n",
    "#intercept\n",
    "c=m_y-(m*m_x)\n",
    "print(\"intercept(c)=\",c)\n",
    "\n",
    "y_pred=(m*X)+c\n",
    "\n",
    "plt.scatter(X, Y, color = \"m\",marker = \"o\", s = 30)\n",
    "# plotting the regression line\n",
    "plt.plot(X, y_pred, color = \"g\")\n",
    "\n",
    "# putting labels    \n",
    "plt.xlabel('x')\n",
    "plt.ylabel('y')\n",
    " \n",
    "# function to show plot\n",
    "plt.show()\n",
    "\n",
    "#cost(error) is y - y_pred\n",
    "cost=Y-y_pred\n",
    "print(\"cost=\",cost)\n",
    "\n",
    "#SSE\n",
    "sub=(Y-y_pred)**2;\n",
    "sse=sum(sub);\n",
    "print(\"SSE=\",sse)\n",
    "\n",
    "#SSR\n",
    "sub1=(y_pred-m_y)**2\n",
    "ssr=sum(sub1)\n",
    "print(\"SSR=\",ssr)\n",
    "\n",
    "#SST\n",
    "sub2=(Y-m_y)**2;\n",
    "sst=sum(sub2)\n",
    "print(\"SST=\",sst)\n",
    "\n",
    "#R^2\n",
    "R_2=ssr/sst\n",
    "print(\"R2=\",R_2)\n",
    "\n"
   ]
  },
  {
   "cell_type": "code",
   "execution_count": 44,
   "metadata": {},
   "outputs": [
    {
     "name": "stdout",
     "output_type": "stream",
     "text": [
      "          x         y\n",
      "0    6.1101  17.59200\n",
      "1    5.5277   9.13020\n",
      "2    8.5186  13.66200\n",
      "3    7.0032  11.85400\n",
      "4    5.8598   6.82330\n",
      "..      ...       ...\n",
      "92   5.8707   7.20290\n",
      "93   5.3054   1.98690\n",
      "94   8.2934   0.14454\n",
      "95  13.3940   9.05510\n",
      "96   5.4369   0.61705\n",
      "\n",
      "[97 rows x 2 columns]\n"
     ]
    }
   ],
   "source": [
    "import numpy as np\n",
    "import pandas as pd\n",
    "import matplotlib.pyplot as plt\n",
    "import statistics as st\n",
    "\n",
    "col_names=['x','y']\n",
    "food = pd.read_csv(\"Food-Truck-LineReg.csv\",names=col_names)\n",
    "print(food)\n",
    "\n"
   ]
  },
  {
   "cell_type": "code",
   "execution_count": 45,
   "metadata": {},
   "outputs": [
    {
     "name": "stdout",
     "output_type": "stream",
     "text": [
      "[ 6.1101  5.5277  8.5186  7.0032  5.8598  8.3829  7.4764  8.5781  6.4862\n",
      "  5.0546  5.7107 14.164   5.734   8.4084  5.6407  5.3794  6.3654  5.1301\n",
      "  6.4296  7.0708  6.1891 20.27    5.4901  6.3261  5.5649 18.945  12.828\n",
      " 10.957  13.176  22.203   5.2524  6.5894  9.2482  5.8918  8.2111  7.9334\n",
      "  8.0959  5.6063 12.836   6.3534  5.4069  6.8825 11.708   5.7737  7.8247\n",
      "  7.0931  5.0702  5.8014 11.7     5.5416  7.5402  5.3077  7.4239  7.6031\n",
      "  6.3328  6.3589  6.2742  5.6397  9.3102  9.4536  8.8254  5.1793 21.279\n",
      " 14.908  18.959   7.2182  8.2951 10.236   5.4994 20.341  10.136   7.3345\n",
      "  6.0062  7.2259  5.0269  6.5479  7.5386  5.0365 10.274   5.1077  5.7292\n",
      "  5.1884  6.3557  9.7687  6.5159  8.5172  9.1802  6.002   5.5204  5.0594\n",
      "  5.7077  7.6366  5.8707  5.3054  8.2934 13.394   5.4369]\n",
      "[17.592    9.1302  13.662   11.854    6.8233  11.886    4.3483  12.\n",
      "  6.5987   3.8166   3.2522  15.505    3.1551   7.2258   0.71618  3.5129\n",
      "  5.3048   0.56077  3.6518   5.3893   3.1386  21.767    4.263    5.1875\n",
      "  3.0825  22.638   13.501    7.0467  14.692   24.147   -1.22     5.9966\n",
      " 12.134    1.8495   6.5426   4.5623   4.1164   3.3928  10.117    5.4974\n",
      "  0.55657  3.9115   5.3854   2.4406   6.7318   1.0463   5.1337   1.844\n",
      "  8.0043   1.0179   6.7504   1.8396   4.2885   4.9981   1.4233  -1.4211\n",
      "  2.4756   4.6042   3.9624   5.4141   5.1694  -0.74279 17.929   12.054\n",
      " 17.054    4.8852   5.7442   7.7754   1.0173  20.992    6.6799   4.0259\n",
      "  1.2784   3.3411  -2.6807   0.29678  3.8845   5.7014   6.7526   2.0576\n",
      "  0.47953  0.20421  0.67861  7.5435   5.3436   4.2415   6.7981   0.92695\n",
      "  0.152    2.8214   1.8451   4.2959   7.2029   1.9869   0.14454  9.0551\n",
      "  0.61705]\n"
     ]
    }
   ],
   "source": [
    "\n",
    "X=food['x'].values\n",
    "Y=food['y'].values\n",
    "print(X)\n",
    "print(Y)"
   ]
  },
  {
   "cell_type": "code",
   "execution_count": 46,
   "metadata": {},
   "outputs": [
    {
     "data": {
      "text/plain": [
       "97"
      ]
     },
     "execution_count": 46,
     "metadata": {},
     "output_type": "execute_result"
    }
   ],
   "source": [
    "# number of observations/points\n",
    "n=np.size(X)\n",
    "n"
   ]
  },
  {
   "cell_type": "code",
   "execution_count": 47,
   "metadata": {},
   "outputs": [
    {
     "name": "stdout",
     "output_type": "stream",
     "text": [
      "mean of x = 8.159799999999999\n",
      "mean of y= 5.839135051546393\n"
     ]
    }
   ],
   "source": [
    "# mean of x and y vector\n",
    "m_x = np.mean(X)\n",
    "m_y = np.mean(Y)\n",
    "print(\"mean of x =\",m_x)\n",
    "print(\"mean of y=\",m_y)"
   ]
  },
  {
   "cell_type": "code",
   "execution_count": 48,
   "metadata": {},
   "outputs": [
    {
     "name": "stdout",
     "output_type": "stream",
     "text": [
      "standard deviation of y = 5.510262255231544\n",
      "standard deviation of x= 3.8698835278823314\n"
     ]
    }
   ],
   "source": [
    "# calculating cross-deviation and deviation about x\n",
    "Sy=st.stdev(Y)\n",
    "Sx=st.stdev(X)\n",
    "print(\"standard deviation of y =\",Sy)\n",
    "print(\"standard deviation of x=\",Sx)"
   ]
  },
  {
   "cell_type": "code",
   "execution_count": 49,
   "metadata": {},
   "outputs": [
    {
     "name": "stdout",
     "output_type": "stream",
     "text": [
      "r= 0.8378732325263409\n"
     ]
    }
   ],
   "source": [
    "#correlation coefficient\n",
    "import scipy.stats\n",
    "r=scipy.stats.pearsonr(X,Y)[0]\n",
    "print(\"r=\",r)"
   ]
  },
  {
   "cell_type": "code",
   "execution_count": 50,
   "metadata": {},
   "outputs": [
    {
     "name": "stdout",
     "output_type": "stream",
     "text": [
      "slope(m)= 1.193033644189594\n"
     ]
    }
   ],
   "source": [
    "#slope\n",
    "m=r*(Sy/Sx)\n",
    "print(\"slope(m)=\",m)"
   ]
  },
  {
   "cell_type": "code",
   "execution_count": 51,
   "metadata": {},
   "outputs": [
    {
     "data": {
      "text/plain": [
       "<matplotlib.collections.PathCollection at 0x7f638015d6d0>"
      ]
     },
     "execution_count": 51,
     "metadata": {},
     "output_type": "execute_result"
    },
    {
     "data": {
      "image/png": "[encoded data removed]",
      "text/plain": [
       "<Figure size 432x288 with 1 Axes>"
      ]
     },
     "metadata": {
      "needs_background": "light"
     },
     "output_type": "display_data"
    }
   ],
   "source": [
    "# plotting the actual points as scatter plot\n",
    "plt.scatter(X, Y, color = \"m\",marker = \"o\", s = 30)"
   ]
  },
  {
   "cell_type": "code",
   "execution_count": 52,
   "metadata": {},
   "outputs": [
    {
     "name": "stdout",
     "output_type": "stream",
     "text": [
      "intercept(c)= -3.8957808783118537\n"
     ]
    }
   ],
   "source": [
    "#intercept\n",
    "c=m_y-(m*m_x)\n",
    "print(\"intercept(c)=\",c)"
   ]
  },
  {
   "cell_type": "code",
   "execution_count": 53,
   "metadata": {},
   "outputs": [
    {
     "data": {
      "text/plain": [
       "array([ 3.39377399,  2.6989512 ,  6.26719552,  4.45927234,  3.09515767,\n",
       "        6.10530086,  5.02381586,  6.33818102,  3.84247394,  2.13452698,\n",
       "        2.91727635, 13.00234766,  2.94507404,  6.13572322,  2.833764  ,\n",
       "        2.52202431,  3.69835548,  2.22460102,  3.77494824,  4.53992141,\n",
       "        3.48802365, 20.28701109,  2.65409313,  3.65146926,  2.74333205,\n",
       "       18.70624151, 11.40845471,  9.17628876, 11.82363042, 22.59314512,\n",
       "        2.37050903,  3.96559502,  7.13763287,  3.13333475,  5.90033768,\n",
       "        5.56903223,  5.7629002 ,  2.79272364, 11.41799898,  3.68403908,\n",
       "        2.55483273,  4.31527318, 10.07225703,  2.99243747,  5.43934948,\n",
       "        4.56652606,  2.1531383 ,  3.02548451, 10.06271276,  2.71553436,\n",
       "        5.09993141,  2.43648379,  4.96118159,  5.17497322,  3.65946258,\n",
       "        3.69060076,  3.58955081,  2.83257096,  7.21160096,  7.38268198,\n",
       "        6.63321825,  2.28329828, 21.49078204, 13.88996469, 18.72294398,\n",
       "        4.71577457,  6.0005525 ,  8.3161115 ,  2.66518834, 20.37171648,\n",
       "        8.19680814,  4.85452438,  3.2698178 ,  4.72496093,  2.10147995,\n",
       "        3.91608412,  5.09802255,  2.11293307,  8.36144678,  2.19787707,\n",
       "        2.93934748,  2.29415488,  3.68678305,  7.75860688,  3.87790704,\n",
       "        6.26552528,  7.05650658,  3.26480705,  2.69024205,  2.14025354,\n",
       "        2.91369725,  5.21493985,  3.10816174,  2.43373982,  5.99852435,\n",
       "       12.08371175,  2.59062374])"
      ]
     },
     "execution_count": 53,
     "metadata": {},
     "output_type": "execute_result"
    }
   ],
   "source": [
    "y_pred=(m*X)+c\n",
    "y_pred"
   ]
  },
  {
   "cell_type": "code",
   "execution_count": 54,
   "metadata": {},
   "outputs": [
    {
     "data": {
      "image/png": "[encoded data removed]",
      "text/plain": [
       "<Figure size 432x288 with 1 Axes>"
      ]
     },
     "metadata": {
      "needs_background": "light"
     },
     "output_type": "display_data"
    }
   ],
   "source": [
    "plt.scatter(X, Y, color = \"m\",marker = \"o\", s = 30)\n",
    "# plotting the regression line\n",
    "plt.plot(X, y_pred, color = \"g\")\n",
    "\n",
    "# putting labels    \n",
    "plt.xlabel('x')\n",
    "plt.ylabel('y')\n",
    " \n",
    "# function to show plot\n",
    "plt.show()"
   ]
  },
  {
   "cell_type": "code",
   "execution_count": 55,
   "metadata": {},
   "outputs": [
    {
     "name": "stdout",
     "output_type": "stream",
     "text": [
      "cost= [14.19822601  6.4312488   7.39480448  7.39472766  3.72814233  5.78069914\n",
      " -0.67551586  5.66181898  2.75622606  1.68207302  0.33492365  2.50265234\n",
      "  0.21002596  1.09007678 -2.117584    0.99087569  1.60644452 -1.66383102\n",
      " -0.12314824  0.84937859 -0.34942365  1.47998891  1.60890687  1.53603074\n",
      "  0.33916795  3.93175849  2.09254529 -2.12958876  2.86836958  1.55385488\n",
      " -3.59050903  2.03100498  4.99636713 -1.28383475  0.64226232 -1.00673223\n",
      " -1.6465002   0.60007636 -1.30099898  1.81336092 -1.99826273 -0.40377318\n",
      " -4.68685703 -0.55183747  1.29245052 -3.52022606  2.9805617  -1.18148451\n",
      " -2.05841276 -1.69763436  1.65046859 -0.59688379 -0.67268159 -0.17687322\n",
      " -2.23616258 -5.11170076 -1.11395081  1.77162904 -3.24920096 -1.96858198\n",
      " -1.46381825 -3.02608828 -3.56178204 -1.83596469 -1.66894398  0.16942543\n",
      " -0.2563525  -0.5407115  -1.64788834  0.62028352 -1.51690814 -0.82862438\n",
      " -1.9914178  -1.38386093 -4.78217995 -3.61930412 -1.21352255  3.58846693\n",
      " -1.60884678 -0.14027707 -2.45981748 -2.08994488 -3.00817305 -0.21510688\n",
      "  1.46569296 -2.02402528 -0.25840658 -2.33785705 -2.53824205  0.68114646\n",
      " -1.06859725 -0.91903985  4.09473826 -0.44683982 -5.85398435 -3.02861175\n",
      " -1.97357374]\n"
     ]
    }
   ],
   "source": [
    "#cost(error) is y - y_pred\n",
    "cost=Y-y_pred\n",
    "print(\"cost=\",cost)\n",
    "\n"
   ]
  },
  {
   "cell_type": "code",
   "execution_count": 56,
   "metadata": {},
   "outputs": [
    {
     "name": "stdout",
     "output_type": "stream",
     "text": [
      "SSE= 868.5324469391845\n"
     ]
    }
   ],
   "source": [
    "#SSE\n",
    "sub=(Y-y_pred)**2;\n",
    "sse=sum(sub);\n",
    "print(\"SSE=\",sse)"
   ]
  },
  {
   "cell_type": "code",
   "execution_count": 57,
   "metadata": {},
   "outputs": [
    {
     "name": "stdout",
     "output_type": "stream",
     "text": [
      "SSR= 2046.314604718041\n"
     ]
    }
   ],
   "source": [
    "#SSR\n",
    "sub1=(y_pred-m_y)**2\n",
    "ssr=sum(sub1)\n",
    "print(\"SSR=\",ssr)"
   ]
  },
  {
   "cell_type": "code",
   "execution_count": 58,
   "metadata": {},
   "outputs": [
    {
     "name": "stdout",
     "output_type": "stream",
     "text": [
      "SST= 2914.8470516572247\n"
     ]
    }
   ],
   "source": [
    "#SST\n",
    "sub2=(Y-m_y)**2;\n",
    "sst=sum(sub2)\n",
    "print(\"SST=\",sst)"
   ]
  },
  {
   "cell_type": "code",
   "execution_count": 59,
   "metadata": {},
   "outputs": [
    {
     "name": "stdout",
     "output_type": "stream",
     "text": [
      "R2= 0.7020315537841401\n"
     ]
    }
   ],
   "source": [
    "#R^2\n",
    "R_2=ssr/sst\n",
    "print(\"R2=\",R_2)"
   ]
  },
  {
   "cell_type": "code",
   "execution_count": null,
   "metadata": {},
   "outputs": [],
   "source": []
  }
 ],
 "metadata": {
  "kernelspec": {
   "display_name": "Python 3",
   "language": "python",
   "name": "python3"
  },
  "language_info": {
   "codemirror_mode": {
    "name": "ipython",
    "version": 3
   },
   "file_extension": ".py",
   "mimetype": "text/x-python",
   "name": "python",
   "nbconvert_exporter": "python",
   "pygments_lexer": "ipython3",
   "version": "3.8.10"
  }
 },
 "nbformat": 4,
 "nbformat_minor": 4
}
